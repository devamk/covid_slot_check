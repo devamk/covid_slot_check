{
 "cells": [
  {
   "cell_type": "code",
   "execution_count": 11,
   "metadata": {},
   "outputs": [],
   "source": [
    "import datetime\n",
    "import requests\n",
    "import pyaudio  \n",
    "import wave "
   ]
  },
  {
   "cell_type": "code",
   "execution_count": 27,
   "metadata": {},
   "outputs": [],
   "source": [
    "def play_alarm():\n",
    "    chunk = 1024  \n",
    "    for i in range(1,2):\n",
    "        f = wave.open(r\"TF004.wav\",\"rb\")\n",
    "        p = pyaudio.PyAudio() \n",
    "        stream = p.open(format = p.get_format_from_width(f.getsampwidth()),  \n",
    "                        channels = f.getnchannels(),  \n",
    "                        rate = f.getframerate(),  \n",
    "                        output = True)  \n",
    "\n",
    "        data = f.readframes(chunk)  \n",
    "\n",
    "        while data:  \n",
    "            stream.write(data)  \n",
    "            data = f.readframes(chunk)  \n",
    "\n",
    "        stream.stop_stream()  \n",
    "        stream.close()  \n",
    "\n",
    "        p.terminate()  "
   ]
  },
  {
   "cell_type": "code",
   "execution_count": 55,
   "metadata": {},
   "outputs": [],
   "source": [
    "pres_time = datetime.datetime.now()\n",
    "days = [pres_time.date() + datetime.timedelta(days = i) for i in range(1, 5)]\n",
    "days = [day_i.strftime(\"%d-%m-%Y\") for day_i in days]"
   ]
  },
  {
   "cell_type": "code",
   "execution_count": 67,
   "metadata": {},
   "outputs": [],
   "source": [
    "pin_codes = [800001, 800014, 803202]"
   ]
  },
  {
   "cell_type": "code",
   "execution_count": 68,
   "metadata": {},
   "outputs": [],
   "source": [
    "user_agent = \"Mozilla/5.0 (Macintosh; Intel Mac OS X 10_15_4)\" + \\\n",
    "             \"AppleWebKit/537.36 (KHTML, like Gecko) \"+\\\n",
    "             \"Chrome/83.0.4103.97 Safari/537.36\""
   ]
  },
  {
   "cell_type": "code",
   "execution_count": 69,
   "metadata": {},
   "outputs": [],
   "source": [
    "response_dict = {}\n",
    "\n",
    "for day_i in days:\n",
    "    for pin_i in pin_codes:\n",
    "        url = \"https://cdn-api.co-vin.in/api/\"\n",
    "\n",
    "        find_sess = \"v2/appointment/sessions/public/findByPin?pincode={}&date={}\".format(pin_i, \"10-05-2021\")\n",
    "\n",
    "        h = {\\\n",
    "            'Accept-Language': 'en_US',\\\n",
    "            \"User-Agent\": user_agent,\\\n",
    "            'Authorization':'Bearer ar33ff22aawqff2df',\\\n",
    "        }\n",
    "\n",
    "        response = requests.get(\n",
    "            url = url + find_sess,\\\n",
    "            headers = h,\\\n",
    "            )\n",
    "        response_dict[(day_i, pin_i)] = response\n",
    " "
   ]
  },
  {
   "cell_type": "code",
   "execution_count": 70,
   "metadata": {},
   "outputs": [],
   "source": [
    "session_list = []\n",
    "for key_i in response_dict.keys():\n",
    "    for j in response_dict[key_i].json()[\"sessions\"]:\n",
    "        session_list.append(j)"
   ]
  },
  {
   "cell_type": "code",
   "execution_count": 76,
   "metadata": {},
   "outputs": [
    {
     "ename": "KeyboardInterrupt",
     "evalue": "",
     "output_type": "error",
     "traceback": [
      "\u001b[0;31m---------------------------------------------------------------------------\u001b[0m",
      "\u001b[0;31mKeyboardInterrupt\u001b[0m                         Traceback (most recent call last)",
      "\u001b[0;32m<ipython-input-76-71ba8607022b>\u001b[0m in \u001b[0;36m<module>\u001b[0;34m\u001b[0m\n\u001b[1;32m      5\u001b[0m \u001b[0;34m\u001b[0m\u001b[0m\n\u001b[1;32m      6\u001b[0m \u001b[0;32mif\u001b[0m \u001b[0;34m(\u001b[0m\u001b[0mlen\u001b[0m\u001b[0;34m(\u001b[0m\u001b[0msessions_match\u001b[0m\u001b[0;34m)\u001b[0m \u001b[0;34m>\u001b[0m \u001b[0;36m0\u001b[0m\u001b[0;34m)\u001b[0m\u001b[0;34m:\u001b[0m\u001b[0;34m\u001b[0m\u001b[0;34m\u001b[0m\u001b[0m\n\u001b[0;32m----> 7\u001b[0;31m     \u001b[0mplay_alarm\u001b[0m\u001b[0;34m(\u001b[0m\u001b[0;34m)\u001b[0m\u001b[0;34m\u001b[0m\u001b[0;34m\u001b[0m\u001b[0m\n\u001b[0m",
      "\u001b[0;32m<ipython-input-27-72049307a9ff>\u001b[0m in \u001b[0;36mplay_alarm\u001b[0;34m()\u001b[0m\n\u001b[1;32m     12\u001b[0m \u001b[0;34m\u001b[0m\u001b[0m\n\u001b[1;32m     13\u001b[0m         \u001b[0;32mwhile\u001b[0m \u001b[0mdata\u001b[0m\u001b[0;34m:\u001b[0m\u001b[0;34m\u001b[0m\u001b[0;34m\u001b[0m\u001b[0m\n\u001b[0;32m---> 14\u001b[0;31m             \u001b[0mstream\u001b[0m\u001b[0;34m.\u001b[0m\u001b[0mwrite\u001b[0m\u001b[0;34m(\u001b[0m\u001b[0mdata\u001b[0m\u001b[0;34m)\u001b[0m\u001b[0;34m\u001b[0m\u001b[0;34m\u001b[0m\u001b[0m\n\u001b[0m\u001b[1;32m     15\u001b[0m             \u001b[0mdata\u001b[0m \u001b[0;34m=\u001b[0m \u001b[0mf\u001b[0m\u001b[0;34m.\u001b[0m\u001b[0mreadframes\u001b[0m\u001b[0;34m(\u001b[0m\u001b[0mchunk\u001b[0m\u001b[0;34m)\u001b[0m\u001b[0;34m\u001b[0m\u001b[0;34m\u001b[0m\u001b[0m\n\u001b[1;32m     16\u001b[0m \u001b[0;34m\u001b[0m\u001b[0m\n",
      "\u001b[0;32m/opt/anaconda3/lib/python3.8/site-packages/pyaudio.py\u001b[0m in \u001b[0;36mwrite\u001b[0;34m(self, frames, num_frames, exception_on_underflow)\u001b[0m\n\u001b[1;32m    583\u001b[0m             \u001b[0;31m#print len(frames), self._channels, self._width, num_frames\u001b[0m\u001b[0;34m\u001b[0m\u001b[0;34m\u001b[0m\u001b[0;34m\u001b[0m\u001b[0m\n\u001b[1;32m    584\u001b[0m \u001b[0;34m\u001b[0m\u001b[0m\n\u001b[0;32m--> 585\u001b[0;31m         pa.write_stream(self._stream, frames, num_frames,\n\u001b[0m\u001b[1;32m    586\u001b[0m                         exception_on_underflow)\n\u001b[1;32m    587\u001b[0m \u001b[0;34m\u001b[0m\u001b[0m\n",
      "\u001b[0;31mKeyboardInterrupt\u001b[0m: "
     ]
    }
   ],
   "source": [
    "sessions_match = []\n",
    "for session_i in session_list:\n",
    "    if (session_i[\"min_age_limit\"] < 45) & (session_i[\"available_capacity\"] > 0):\n",
    "        sessions_match.append(session_i)\n",
    "\n",
    "if (len(sessions_match) > 0):\n",
    "    play_alarm()"
   ]
  },
  {
   "cell_type": "code",
   "execution_count": 85,
   "metadata": {},
   "outputs": [],
   "source": [
    "file = open(\"MyFile.txt\", \"a\")\n",
    "\n",
    "header = \"=================================\\n\"+\\\n",
    "        datetime.datetime.now().__str__()+\\\n",
    "        \"\\n=================================\\n\"\n",
    "file.write(header + str(sessions_match))\n",
    "file.close()"
   ]
  },
  {
   "cell_type": "code",
   "execution_count": 84,
   "metadata": {},
   "outputs": [
    {
     "name": "stdout",
     "output_type": "stream",
     "text": [
      "2021-05-09 22:04:58.822396\n",
      "2021-05-09 22:04:58.822405\n"
     ]
    }
   ],
   "source": [
    "print(datetime.datetime.now().__str__()+\"\\n\"+datetime.datetime.now().__str__())"
   ]
  },
  {
   "cell_type": "code",
   "execution_count": null,
   "metadata": {},
   "outputs": [],
   "source": []
  }
 ],
 "metadata": {
  "kernelspec": {
   "display_name": "Python 3",
   "language": "python",
   "name": "python3"
  },
  "language_info": {
   "codemirror_mode": {
    "name": "ipython",
    "version": 3
   },
   "file_extension": ".py",
   "mimetype": "text/x-python",
   "name": "python",
   "nbconvert_exporter": "python",
   "pygments_lexer": "ipython3",
   "version": "3.8.3"
  }
 },
 "nbformat": 4,
 "nbformat_minor": 4
}
